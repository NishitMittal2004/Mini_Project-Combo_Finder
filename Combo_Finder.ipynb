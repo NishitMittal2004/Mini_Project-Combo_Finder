{
  "nbformat": 4,
  "nbformat_minor": 0,
  "metadata": {
    "colab": {
      "provenance": [],
      "authorship_tag": "ABX9TyPHTT8NCgLEgsC2l3Wi3hcA",
      "include_colab_link": true
    },
    "kernelspec": {
      "name": "python3",
      "display_name": "Python 3"
    },
    "language_info": {
      "name": "python"
    }
  },
  "cells": [
    {
      "cell_type": "markdown",
      "metadata": {
        "id": "view-in-github",
        "colab_type": "text"
      },
      "source": [
        "<a href=\"https://colab.research.google.com/github/NishitMittal2004/Mini_Project-Combo_Finder/blob/main/Combo_Finder.ipynb\" target=\"_parent\"><img src=\"https://colab.research.google.com/assets/colab-badge.svg\" alt=\"Open In Colab\"/></a>"
      ]
    },
    {
      "cell_type": "markdown",
      "source": [
        "# **Combo Finder**"
      ],
      "metadata": {
        "id": "dPge-rRilb_i"
      }
    },
    {
      "cell_type": "markdown",
      "source": [
        "---\n",
        "### **Problem Statement :**\n",
        "##### Find all the list of products whose sum-of-price is between 290 and 310.\n",
        "\n",
        "##### **ProductList** = { p1:10, p2:15, p3:20, p4:25, p5:30, p6:35, p7:50, p8:40, p9:55, p10:60, p11:65, p12:75, p13:70, p14:45 }\n",
        "---"
      ],
      "metadata": {
        "id": "JJ1_LqkVlf5n"
      }
    },
    {
      "cell_type": "code",
      "execution_count": 7,
      "metadata": {
        "colab": {
          "base_uri": "https://localhost:8080/"
        },
        "id": "-siC_b9bkJdc",
        "outputId": "2e810153-c02e-43c8-dbd0-29c8343ab28e"
      },
      "outputs": [
        {
          "output_type": "stream",
          "name": "stdout",
          "text": [
            "['p7', 'p9', 'p11', 'p12', 'p10']\n",
            "['p12', 'p11', 'p3', 'p9', 'p5', 'p10']\n",
            "['p12', 'p2', 'p8', 'p4', 'p3', 'p5', 'p7', 'p6']\n",
            "['p9', 'p2', 'p12', 'p1', 'p4', 'p3', 'p6', 'p11']\n",
            "['p8', 'p4', 'p13', 'p14', 'p12', 'p9']\n",
            "['p14', 'p10', 'p9', 'p13', 'p6', 'p5']\n",
            "['p14', 'p5', 'p4', 'p6', 'p12', 'p2', 'p1', 'p13']\n",
            "['p7', 'p9', 'p12', 'p10', 'p4', 'p5', 'p1']\n",
            "['p11', 'p9', 'p14', 'p13', 'p10', 'p1']\n",
            "['p3', 'p12', 'p5', 'p14', 'p1', 'p9', 'p4', 'p6', 'p2']\n",
            "['p13', 'p14', 'p1', 'p4', 'p12', 'p9', 'p5']\n",
            "['p6', 'p5', 'p7', 'p3', 'p4', 'p11', 'p1', 'p10']\n",
            "['p2', 'p11', 'p10', 'p1', 'p14', 'p4', 'p13']\n",
            "['p11', 'p12', 'p8', 'p7', 'p14', 'p3']\n",
            "['p9', 'p4', 'p13', 'p8', 'p5', 'p12']\n",
            "['p10', 'p5', 'p8', 'p6', 'p13', 'p11']\n",
            "['p7', 'p5', 'p14', 'p13', 'p10', 'p3', 'p4']\n",
            "['p13', 'p1', 'p8', 'p6', 'p4', 'p7', 'p11']\n",
            "['p10', 'p1', 'p13', 'p12', 'p3', 'p2', 'p7']\n",
            "['p4', 'p10', 'p1', 'p14', 'p11', 'p13', 'p5']\n",
            "['p1', 'p8', 'p3', 'p2', 'p7', 'p10', 'p5', 'p12']\n",
            "['p10', 'p13', 'p6', 'p3', 'p14', 'p11']\n",
            "['p5', 'p10', 'p4', 'p14', 'p7', 'p9', 'p1', 'p6']\n",
            "['p4', 'p9', 'p3', 'p11', 'p12', 'p13']\n",
            "['p6', 'p11', 'p10', 'p13', 'p14', 'p1', 'p3']\n",
            "['p14', 'p13', 'p6', 'p11', 'p1', 'p4', 'p2', 'p8']\n",
            "['p13', 'p11', 'p12', 'p2', 'p5', 'p14']\n",
            "['p7', 'p5', 'p3', 'p1', 'p10', 'p14', 'p12', 'p2']\n",
            "['p5', 'p10', 'p1', 'p3', 'p11', 'p9', 'p13']\n",
            "['p12', 'p13', 'p9', 'p3', 'p8', 'p6']\n",
            "['p1', 'p12', 'p10', 'p3', 'p8', 'p6', 'p9']\n",
            "['p8', 'p1', 'p14', 'p9', 'p3', 'p10', 'p13']\n",
            "['p10', 'p9', 'p4', 'p11', 'p7', 'p6']\n",
            "['p4', 'p5', 'p8', 'p14', 'p3', 'p13', 'p11']\n",
            "['p2', 'p5', 'p13', 'p6', 'p3', 'p1', 'p10', 'p4', 'p14']\n",
            "['p1', 'p7', 'p6', 'p4', 'p9', 'p8', 'p3', 'p13']\n",
            "['p13', 'p1', 'p4', 'p5', 'p7', 'p8', 'p6', 'p14']\n",
            "['p12', 'p13', 'p11', 'p4', 'p14', 'p2']\n",
            "['p8', 'p9', 'p7', 'p12', 'p1', 'p10']\n",
            "['p9', 'p7', 'p12', 'p2', 'p11', 'p14']\n",
            "['p14', 'p5', 'p6', 'p11', 'p2', 'p9', 'p7']\n",
            "['p10', 'p9', 'p13', 'p7', 'p5', 'p1', 'p6']\n",
            "['p10', 'p6', 'p11', 'p13', 'p12']\n",
            "['p2', 'p14', 'p3', 'p4', 'p9', 'p6', 'p1', 'p5', 'p13']\n",
            "['p8', 'p9', 'p7', 'p4', 'p13', 'p11']\n",
            "['p5', 'p6', 'p8', 'p2', 'p13', 'p14', 'p12']\n",
            "['p11', 'p9', 'p6', 'p5', 'p2', 'p10', 'p8']\n",
            "['p6', 'p13', 'p3', 'p7', 'p1', 'p8', 'p4', 'p14', 'p2']\n",
            "['p10', 'p5', 'p6', 'p11', 'p9', 'p14']\n",
            "['p8', 'p14', 'p10', 'p12', 'p6', 'p7']\n",
            "['p11', 'p5', 'p10', 'p12', 'p9', 'p2']\n",
            "['p7', 'p4', 'p1', 'p13', 'p14', 'p10', 'p6']\n",
            "['p14', 'p7', 'p2', 'p4', 'p11', 'p13', 'p3']\n",
            "['p12', 'p10', 'p13', 'p2', 'p5', 'p8']\n",
            "['p1', 'p11', 'p13', 'p10', 'p5', 'p2', 'p8']\n",
            "['p13', 'p4', 'p9', 'p14', 'p8', 'p11']\n",
            "Total lists = 56\n"
          ]
        }
      ],
      "source": [
        "# Import library\n",
        "import random as r\n",
        "\n",
        "# Define dictionary\n",
        "Product_List = {'p1':10, 'p2':15, 'p3':20, 'p4':25, 'p5':30, 'p6':35, 'p7':50,'p8':40, 'p9':55, 'p10':60, 'p11':65, 'p12':75, 'p13':70,'p14':45}\n",
        "Final_List = []    # List of products whose sum-of-price is between 290 and 310\n",
        "\n",
        "for i in range(1001):\n",
        "  # Specify combo size\n",
        "  size = r.randint(2, len(Product_List)-1)\n",
        "\n",
        "  # Select no. of elements\n",
        "  Combo_List = r.sample(list(Product_List.keys()), size)\n",
        "\n",
        "  # Sum the products in Combo_List\n",
        "  Combo_Sum = sum(Product_List[i] for i in Combo_List)\n",
        "  \n",
        "  # Check the condition that sum-of-price is between 290 and 310\n",
        "  if Combo_Sum >= 290 and Combo_Sum <= 310:\n",
        "    Final_List.append(Combo_List)\n",
        "\n",
        "# Print all the list of products\n",
        "for j in Final_List:\n",
        "  print(j)\n",
        "\n",
        "# Print total sets\n",
        "print(\"Total lists =\", len(Final_List))\n"
      ]
    }
  ]
}